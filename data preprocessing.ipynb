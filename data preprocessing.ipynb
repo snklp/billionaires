{
 "cells": [
  {
   "cell_type": "code",
   "execution_count": 154,
   "id": "4ab6112c",
   "metadata": {},
   "outputs": [],
   "source": [
    "import os\n",
    "import cv2\n",
    "import matplotlib.pyplot as plt"
   ]
  },
  {
   "cell_type": "code",
   "execution_count": 155,
   "id": "c03c7310",
   "metadata": {},
   "outputs": [],
   "source": [
    "face_cascade = cv2.CascadeClassifier('haarcascades/haarcascade_frontalface_default.xml')\n",
    "eye_cascade = cv2.CascadeClassifier('haarcascades/haarcascade_eye.xml')"
   ]
  },
  {
   "cell_type": "code",
   "execution_count": 156,
   "id": "e9cfb282",
   "metadata": {},
   "outputs": [],
   "source": [
    "def get_cropped_faces(img_path):\n",
    "    cropped = []\n",
    "    img = cv2.imread(img_path)\n",
    "    faces = face_cascade.detectMultiScale(img, 1.3, 5)\n",
    "    for face in faces:\n",
    "        x,y,w,h = face\n",
    "        cropped_face = img[y:y+h,x:x+w]\n",
    "        eyes = eye_cascade.detectMultiScale(cropped_face)\n",
    "        if len(eyes) >= 2:\n",
    "            cropped.append(cropped_face)\n",
    "    return cropped"
   ]
  },
  {
   "cell_type": "code",
   "execution_count": 157,
   "id": "59b7950f",
   "metadata": {},
   "outputs": [],
   "source": [
    "def raw_to_cropped(raw_path):\n",
    "    for i in os.listdir(raw_path):\n",
    "        class_name = i\n",
    "        raw_path = 'data'\n",
    "        class_path = os.path.join(raw_path, class_name)\n",
    "        cropped_class_path = os.path.join(cropped_path, class_name)\n",
    "\n",
    "        img_num = 0\n",
    "        for i in os.scandir(class_path):\n",
    "            if not os.path.exists(cropped_class_path):\n",
    "                os.makedirs(cropped_class_path)\n",
    "            img_path = i.path\n",
    "            cropped_faces = get_cropped_faces(img_path)\n",
    "            for face in cropped_faces:\n",
    "                file_name = class_name + str(img_num) + '.jpg'\n",
    "                file_path = os.path.join(cropped_class_path, file_name)\n",
    "                cv2.imwrite(file_path, face)\n",
    "                img_num += 1"
   ]
  },
  {
   "cell_type": "code",
   "execution_count": 158,
   "id": "1543ce34",
   "metadata": {},
   "outputs": [],
   "source": [
    "raw_path = 'data'\n",
    "raw_to_cropped(raw_path)"
   ]
  },
  {
   "cell_type": "code",
   "execution_count": 151,
   "id": "09a0f84b",
   "metadata": {},
   "outputs": [],
   "source": [
    "#############################################FIXED##########################################################################3333333333\n",
    "for i in os.listdir(raw_path):\n",
    "    class_name = i\n",
    "    \n",
    "    raw_path = 'data'\n",
    "    class_path = os.path.join(raw_path, class_name)\n",
    "    cropped_class_path = os.path.join(cropped_path, class_name)\n",
    "\n",
    "    img_num = 0\n",
    "    for i in os.scandir(class_path):\n",
    "        if not os.path.exists(cropped_class_path):\n",
    "            os.makedirs(cropped_class_path)\n",
    "        img_path = i.path\n",
    "        class_dir = img_path.split(\"\\\\\")[1]\n",
    "        class_name = class_dir.split('-')[0][:-1]\n",
    "\n",
    "        cropped_faces = get_cropped_faces(img_path)\n",
    "        for face in cropped_faces:\n",
    "            file_name = class_name + str(img_num) + '.jpg'\n",
    "            file_path = os.path.join(cropped_class_path, file_name)\n",
    "            cv2.imwrite(file_path, face)\n",
    "            img_num += 1"
   ]
  },
  {
   "cell_type": "code",
   "execution_count": 9,
   "id": "5fc29ead",
   "metadata": {},
   "outputs": [
    {
     "name": "stdout",
     "output_type": "stream",
     "text": [
      "data\\cropped\n",
      "data\\croppeddata\n",
      "data\\elon musk - Google Search\n",
      "Generating cropped images in folder:  data/cropped/data\\elon musk - Google Search\n",
      "data\\gautam adani - Google Search\n",
      "Generating cropped images in folder:  data/cropped/data\\gautam adani - Google Search\n",
      "data\\jeff bezos - Google Search\n",
      "Generating cropped images in folder:  data/cropped/data\\jeff bezos - Google Search\n",
      "data\\mark zuckerberg - Google Search\n",
      "Generating cropped images in folder:  data/cropped/data\\mark zuckerberg - Google Search\n",
      "data\\mukesh ambani - Google Search\n",
      "Generating cropped images in folder:  data/cropped/data\\mukesh ambani - Google Search\n"
     ]
    }
   ],
   "source": [
    "# path_to_data = \"data\"\n",
    "# path_to_cr_data = \"data/cropped/\"\n",
    "\n",
    "# import os\n",
    "# img_dirs = []\n",
    "# for entry in os.scandir(path_to_data):\n",
    "#     if entry.is_dir():\n",
    "#         img_dirs.append(entry.path)\n",
    "\n",
    "# import shutil\n",
    "# if os.path.exists(path_to_cr_data):\n",
    "#      shutil.rmtree(path_to_cr_data)\n",
    "# os.mkdir(path_to_cr_data)\n",
    "\n",
    "# cropped_image_dirs = []\n",
    "# celebrity_file_names_dict = {}\n",
    "\n",
    "# for img_dir in img_dirs:\n",
    "#     count = 1\n",
    "#     celebrity_name = img_dir.split('/')[-1]\n",
    "#     print(celebrity_name)\n",
    "    \n",
    "#     celebrity_file_names_dict[celebrity_name] = []\n",
    "    \n",
    "#     for entry in os.scandir(img_dir):\n",
    "#         roi_color = get_cropped_image_if_2_eyes(entry.path)\n",
    "#         if roi_color is not None:\n",
    "#             cropped_folder = path_to_cr_data + celebrity_name\n",
    "#             if not os.path.exists(cropped_folder):\n",
    "#                 os.makedirs(cropped_folder)\n",
    "#                 cropped_image_dirs.append(cropped_folder)\n",
    "#                 print(\"Generating cropped images in folder: \",cropped_folder)\n",
    "                \n",
    "#             cropped_file_name = celebrity_name + str(count) + \".png\"\n",
    "#             cropped_file_path = cropped_folder + \"/\" + cropped_file_name \n",
    "            \n",
    "#             cv2.imwrite(cropped_file_path, roi_color)\n",
    "#             celebrity_file_names_dict[celebrity_name].append(cropped_file_path)\n",
    "#             count += 1    \n"
   ]
  }
 ],
 "metadata": {
  "kernelspec": {
   "display_name": "Python 3 (ipykernel)",
   "language": "python",
   "name": "python3"
  },
  "language_info": {
   "codemirror_mode": {
    "name": "ipython",
    "version": 3
   },
   "file_extension": ".py",
   "mimetype": "text/x-python",
   "name": "python",
   "nbconvert_exporter": "python",
   "pygments_lexer": "ipython3",
   "version": "3.9.12"
  }
 },
 "nbformat": 4,
 "nbformat_minor": 5
}
